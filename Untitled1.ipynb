{
 "cells": [
  {
   "cell_type": "code",
   "execution_count": 1,
   "metadata": {},
   "outputs": [],
   "source": [
    "import urllib.request\n",
    "import xml.dom.minidom\n",
    "file = urllib.request.urlopen('https://www.reddit.com/.rss')\n",
    "DOMTree = xml.dom.minidom.parse(file)\n",
    "file.close()"
   ]
  },
  {
   "cell_type": "code",
   "execution_count": 3,
   "metadata": {},
   "outputs": [
    {
     "name": "stdout",
     "output_type": "stream",
     "text": [
      "name space=http://www.w3.org/2005/Atom\n"
     ]
    }
   ],
   "source": [
    "collection = DOMTree.documentElement\n",
    "if collection.hasAttribute(\"xmlns\"):\n",
    "    print('name space=%s'%collection.getAttribute(\"xmlns\"))"
   ]
  },
  {
   "cell_type": "code",
   "execution_count": 4,
   "metadata": {},
   "outputs": [
    {
     "data": {
      "text/plain": [
       "25"
      ]
     },
     "execution_count": 4,
     "metadata": {},
     "output_type": "execute_result"
    }
   ],
   "source": [
    "entries = collection.getElementsByTagName(\"entry\")\n",
    "len(entries)"
   ]
  },
  {
   "cell_type": "code",
   "execution_count": 11,
   "metadata": {},
   "outputs": [
    {
     "name": "stdout",
     "output_type": "stream",
     "text": [
      "***author***\n",
      "/u/Cromulus\n",
      "https://www.reddit.com/user/Cromulus\n",
      "***author***\n",
      "/u/xmjokerxm\n",
      "https://www.reddit.com/user/xmjokerxm\n",
      "***author***\n",
      "/u/paolols\n",
      "https://www.reddit.com/user/paolols\n",
      "***author***\n",
      "/u/PrinceWilliam13\n",
      "https://www.reddit.com/user/PrinceWilliam13\n",
      "***author***\n",
      "/u/Jozoz\n",
      "https://www.reddit.com/user/Jozoz\n",
      "***author***\n",
      "/u/TheGamerDanYT\n",
      "https://www.reddit.com/user/TheGamerDanYT\n",
      "***author***\n",
      "/u/WPPW\n",
      "https://www.reddit.com/user/WPPW\n",
      "***author***\n",
      "/u/andrewkim0706\n",
      "https://www.reddit.com/user/andrewkim0706\n",
      "***author***\n",
      "/u/teekay_1994\n",
      "https://www.reddit.com/user/teekay_1994\n",
      "***author***\n",
      "/u/Mr_Putin_\n",
      "https://www.reddit.com/user/Mr_Putin_\n",
      "***author***\n",
      "/u/chanma50\n",
      "https://www.reddit.com/user/chanma50\n",
      "***author***\n",
      "/u/AmorphouSquid\n",
      "https://www.reddit.com/user/AmorphouSquid\n",
      "***author***\n",
      "/u/Lexaraj\n",
      "https://www.reddit.com/user/Lexaraj\n",
      "***author***\n",
      "/u/parordice\n",
      "https://www.reddit.com/user/parordice\n",
      "***author***\n",
      "/u/speedforce95\n",
      "https://www.reddit.com/user/speedforce95\n",
      "***author***\n",
      "/u/parordice\n",
      "https://www.reddit.com/user/parordice\n",
      "***author***\n",
      "/u/ChipChimney\n",
      "https://www.reddit.com/user/ChipChimney\n",
      "***author***\n",
      "/u/rundown9\n",
      "https://www.reddit.com/user/rundown9\n",
      "***author***\n",
      "/u/Twoweekswithpay\n",
      "https://www.reddit.com/user/Twoweekswithpay\n",
      "***author***\n",
      "/u/Mindofmine666\n",
      "https://www.reddit.com/user/Mindofmine666\n",
      "***author***\n",
      "/u/zingusdingus\n",
      "https://www.reddit.com/user/zingusdingus\n",
      "***author***\n",
      "/u/Frocharocha\n",
      "https://www.reddit.com/user/Frocharocha\n",
      "***author***\n",
      "/u/mdelint\n",
      "https://www.reddit.com/user/mdelint\n",
      "***author***\n",
      "/u/shy247er\n",
      "https://www.reddit.com/user/shy247er\n",
      "***author***\n",
      "/u/Amilysena\n",
      "https://www.reddit.com/user/Amilysena\n"
     ]
    }
   ],
   "source": [
    "for entry in entries:\n",
    "    authors = entry.getElementsByTagName(\"author\")\n",
    "    for author in authors:\n",
    "        print(\"***author***\")\n",
    "        print(author.getElementsByTagName('name')[0].childNodes[0].data)\n",
    "        print(author.getElementsByTagName('uri')[0].childNodes[0].data)\n"
   ]
  },
  {
   "cell_type": "code",
   "execution_count": null,
   "metadata": {},
   "outputs": [],
   "source": []
  },
  {
   "cell_type": "code",
   "execution_count": null,
   "metadata": {},
   "outputs": [],
   "source": []
  },
  {
   "cell_type": "code",
   "execution_count": null,
   "metadata": {},
   "outputs": [],
   "source": []
  },
  {
   "cell_type": "code",
   "execution_count": null,
   "metadata": {},
   "outputs": [],
   "source": []
  },
  {
   "cell_type": "code",
   "execution_count": null,
   "metadata": {},
   "outputs": [],
   "source": []
  },
  {
   "cell_type": "code",
   "execution_count": null,
   "metadata": {},
   "outputs": [],
   "source": []
  },
  {
   "cell_type": "code",
   "execution_count": null,
   "metadata": {},
   "outputs": [],
   "source": []
  }
 ],
 "metadata": {
  "kernelspec": {
   "display_name": "Python 3",
   "language": "python",
   "name": "python3"
  },
  "language_info": {
   "codemirror_mode": {
    "name": "ipython",
    "version": 3
   },
   "file_extension": ".py",
   "mimetype": "text/x-python",
   "name": "python",
   "nbconvert_exporter": "python",
   "pygments_lexer": "ipython3",
   "version": "3.8.2"
  }
 },
 "nbformat": 4,
 "nbformat_minor": 4
}
